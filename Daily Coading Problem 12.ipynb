{
 "cells": [
  {
   "cell_type": "markdown",
   "id": "a85743ef",
   "metadata": {},
   "source": [
    "# Daily Coading Problem 12"
   ]
  },
  {
   "cell_type": "raw",
   "id": "59506b0b",
   "metadata": {},
   "source": [
    "This problem was asked by Amazon.\n",
    "\n",
    "There exists a staircase with N steps, and you can climb up either 1 or 2 steps at a time. Given N, write a function that returns the number of unique ways you can climb the staircase. The order of the steps matters.\n",
    "\n",
    "For example, if N is 4, then there are 5 unique ways:\n",
    "\n",
    "1, 1, 1, 1\n",
    "2, 1, 1\n",
    "1, 2, 1\n",
    "1, 1, 2\n",
    "2, 2\n",
    "What if, instead of being able to climb 1 or 2 steps at a time, you could climb any number from a set of positive integers X? For example, if X = {1, 3, 5}, you could climb 1, 3, or 5 steps at a time."
   ]
  },
  {
   "cell_type": "raw",
   "id": "ec29f763",
   "metadata": {},
   "source": [
    "It's always good to start off with some test cases. Let's start with small cases and see if we can find some sort of pattern.\n",
    "\n",
    "N = 1: [1]\n",
    "N = 2: [1, 1], [2]\n",
    "N = 3: [1, 2], [1, 1, 1], [2, 1]\n",
    "N = 4: [1, 1, 2], [2, 2], [1, 2, 1], [1, 1, 1, 1], [2, 1, 1]\n",
    "What's the relationship?\n",
    "\n",
    "The only ways to get to N = 3, is to first get to N = 1, and then go up by 2 steps, or get to N = 2 and go up by 1 step. So f(3) = f(2) + f(1).\n",
    "\n",
    "Does this hold for N = 4? Yes, it does. Since we can only get to the 4th step by getting to the 3rd step and going up by one, or by getting to the 2nd step and going up by two. So f(4) = f(3) + f(2).\n",
    "\n",
    "To generalize, f(n) = f(n - 1) + f(n - 2). That's just the Fibonacci sequence!"
   ]
  },
  {
   "cell_type": "code",
   "execution_count": 1,
   "id": "c34943c2",
   "metadata": {},
   "outputs": [
    {
     "name": "stdout",
     "output_type": "stream",
     "text": [
      "5\n"
     ]
    }
   ],
   "source": [
    "def staircase(n):\n",
    "    if n <= 1:\n",
    "        return 1\n",
    "    return staircase(n - 1) + staircase(n - 2)\n",
    "print(staircase(4))"
   ]
  },
  {
   "cell_type": "raw",
   "id": "d992cc10",
   "metadata": {},
   "source": [
    "Of course, this is really slow (O(2N)) — we are doing a lot of repeated computations! We can do it a lot faster by just computing iteratively:"
   ]
  },
  {
   "cell_type": "code",
   "execution_count": 2,
   "id": "98783711",
   "metadata": {},
   "outputs": [
    {
     "name": "stdout",
     "output_type": "stream",
     "text": [
      "5\n"
     ]
    }
   ],
   "source": [
    "def staircase(n):\n",
    "    a, b = 1, 2\n",
    "    for _ in range(n - 1):\n",
    "        a, b = b, a + b\n",
    "    return a\n",
    "print(staircase(4))"
   ]
  },
  {
   "cell_type": "raw",
   "id": "f7bb27ca",
   "metadata": {},
   "source": [
    "Now, let's try to generalize what we've learned so that it works if you can take a number of steps from the set X. Similar reasoning tells us that if X = {1, 3, 5}, then our algorithm should be f(n) = f(n - 1) + f(n - 3) + f(n - 5). If n < 0, then we should return 0 since we can't start from a negative number of steps."
   ]
  },
  {
   "cell_type": "code",
   "execution_count": 5,
   "id": "d0726870",
   "metadata": {},
   "outputs": [
    {
     "name": "stdout",
     "output_type": "stream",
     "text": [
      "3\n"
     ]
    }
   ],
   "source": [
    "def staircase(n, X):\n",
    "    if n < 0:\n",
    "        return 0\n",
    "    elif n == 0:\n",
    "        return 1\n",
    "    else:\n",
    "        return sum(staircase(n - x, X) for x in X)\n",
    "    \n",
    "print(staircase(4,{1,3,5}))"
   ]
  },
  {
   "cell_type": "raw",
   "id": "7878f438",
   "metadata": {},
   "source": [
    "This is again, very slow (O(|X|N)) since we are repeating computations again. We can use dynamic programming to speed it up.\n",
    "\n",
    "Each entry cache[i] will contain the number of ways we can get to step i with the set X. Then, we'll build up the array from zero using the same recurrence as before:"
   ]
  },
  {
   "cell_type": "code",
   "execution_count": 6,
   "id": "dcbe1737",
   "metadata": {},
   "outputs": [
    {
     "name": "stdout",
     "output_type": "stream",
     "text": [
      "3\n"
     ]
    }
   ],
   "source": [
    "def staircase(n, X):\n",
    "    cache = [0 for _ in range(n + 1)]\n",
    "    cache[0] = 1\n",
    "    for i in range(1, n + 1):\n",
    "        cache[i] += sum(cache[i - x] for x in X if i - x >= 0)\n",
    "    return cache[n]\n",
    "print (staircase(4,{1,3,5}))"
   ]
  },
  {
   "cell_type": "raw",
   "id": "26063608",
   "metadata": {},
   "source": [
    "This now takes O(N * |X|) time and O(N) space."
   ]
  }
 ],
 "metadata": {
  "kernelspec": {
   "display_name": "Python 3 (ipykernel)",
   "language": "python",
   "name": "python3"
  },
  "language_info": {
   "codemirror_mode": {
    "name": "ipython",
    "version": 3
   },
   "file_extension": ".py",
   "mimetype": "text/x-python",
   "name": "python",
   "nbconvert_exporter": "python",
   "pygments_lexer": "ipython3",
   "version": "3.8.10"
  }
 },
 "nbformat": 4,
 "nbformat_minor": 5
}
